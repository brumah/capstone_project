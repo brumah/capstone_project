{
 "cells": [
  {
   "cell_type": "code",
   "execution_count": null,
   "metadata": {},
   "outputs": [],
   "source": [
    "# pip install MLB-StatsAPI\n",
    "# pip install pandas"
   ]
  },
  {
   "cell_type": "code",
   "execution_count": 1,
   "metadata": {},
   "outputs": [],
   "source": [
    "import statsapi\n",
    "import pandas as pd\n",
    "from datetime import datetime, timedelta\n",
    "import pickle"
   ]
  },
  {
   "cell_type": "markdown",
   "metadata": {},
   "source": [
    "## Collect all games over a specific date range"
   ]
  },
  {
   "cell_type": "code",
   "execution_count": 17,
   "metadata": {},
   "outputs": [],
   "source": [
    "def get_run_differential(game):\n",
    "    home_runs = game['home_score']\n",
    "    away_runs = game['away_score']\n",
    "    run_differential = home_runs - away_runs\n",
    "    home_win = 1 if home_runs > away_runs else 0\n",
    "    return {\n",
    "        'game_id': game['game_id'],\n",
    "        'date': game['game_date'], \n",
    "        'home_team_name': game['home_name'],\n",
    "        'away_team_name': game['away_name'],\n",
    "        'home_id': game['home_id'],\n",
    "        'away_id': game['away_id'],\n",
    "        'home_score': home_runs,\n",
    "        'away_score': away_runs,\n",
    "        'run_differential': run_differential,\n",
    "        'home_win': home_win,\n",
    "    }"
   ]
  },
  {
   "cell_type": "code",
   "execution_count": 18,
   "metadata": {},
   "outputs": [],
   "source": [
    "def fetch_run_differentials(start_date, end_date):\n",
    "    games_data = []\n",
    "    current_date = start_date\n",
    "    while current_date <= end_date:\n",
    "        schedule = statsapi.schedule(start_date=current_date.strftime('%Y-%m-%d'), end_date=(current_date + timedelta(days=6)).strftime('%Y-%m-%d'))\n",
    "        for game in schedule:\n",
    "            if game['status'] == 'Final':\n",
    "                game_info = get_run_differential(game)\n",
    "                games_data.append(game_info)\n",
    "        current_date += timedelta(days=7)\n",
    "    return games_data\n"
   ]
  },
  {
   "cell_type": "code",
   "execution_count": 37,
   "metadata": {},
   "outputs": [],
   "source": [
    "end_date = datetime.today()\n",
    "start_date = end_date - timedelta(days=30) # change days for a different date range\n",
    "games_data = fetch_run_differentials(start_date, end_date)\n",
    "games_df = pd.DataFrame(games_data)"
   ]
  },
  {
   "cell_type": "markdown",
   "metadata": {},
   "source": [
    "## Create Team Stat Season Data by Day"
   ]
  },
  {
   "cell_type": "code",
   "execution_count": 5,
   "metadata": {},
   "outputs": [],
   "source": [
    "def create_stat_dataframe(team_ids, season):\n",
    "    date_range = pd.date_range(start=f'{season}-09-01', end=f'{season}-10-01')\n",
    "    df = pd.DataFrame(index=team_ids, columns=date_range)\n",
    "    df.index.name = 'team_id'\n",
    "    return df"
   ]
  },
  {
   "cell_type": "code",
   "execution_count": 6,
   "metadata": {},
   "outputs": [],
   "source": [
    "def populate_stat_dataframes(df_dict, team_id, season, stat_types):\n",
    "    print(f\"Populating stats for Team {team_id}\")\n",
    "\n",
    "    totals = {f\"{stat_type}_{stat}\": 0.0 for stat_type, stat_list in stat_types.items() for stat in stat_list}\n",
    "    games_played = {f\"{stat_type}_{stat}\": 0 for stat_type, stat_list in stat_types.items() for stat in stat_list}\n",
    "    schedule = statsapi.schedule(team=team_id, start_date=f'{season}-09-01', end_date=f'{season}-10-01')\n",
    "\n",
    "    for game in schedule:\n",
    "        game_date = pd.to_datetime(game['game_date'])\n",
    "        if game['status'] == 'Final':\n",
    "            boxscore = statsapi.boxscore_data(game['game_id'])\n",
    "            team_side = 'home' if team_id == game['home_id'] else 'away'\n",
    "            for stat_type, stat_list in stat_types.items():\n",
    "                for stat in stat_list:\n",
    "                    stat_key = f\"{stat_type}_{stat}\"\n",
    "                    stat_value = boxscore[team_side]['teamStats'][stat_type].get(stat, 0)\n",
    "\n",
    "                    totals[stat_key] += float(stat_value)\n",
    "                    games_played[stat_key] += 1\n",
    "                    current_stat_value = totals[stat_key] / games_played[stat_key]\n",
    "\n",
    "                    mask = (df_dict[stat_key].columns <= game_date) & (df_dict[stat_key].loc[team_id].isna())\n",
    "                    df_dict[stat_key].loc[team_id, mask] = current_stat_value"
   ]
  },
  {
   "cell_type": "code",
   "execution_count": 7,
   "metadata": {},
   "outputs": [],
   "source": [
    "batting_stats = [\n",
    "    'doubles', 'triples', 'homeRuns', 'strikeOuts', 'baseOnBalls',\n",
    "    'hits', 'avg', 'atBats', 'obp', 'slg', 'ops', 'stolenBases', 'rbi', 'leftOnBase',\n",
    "]\n",
    "\n",
    "pitching_stats = [\n",
    "    'runs', 'doubles', 'triples', 'homeRuns', 'strikeOuts', 'baseOnBalls',\n",
    "    'hits', 'atBats', 'obp', 'stolenBases', 'numberOfPitches', 'era',\n",
    "    'inningsPitched', 'earnedRuns', 'pitchesThrown', 'strikes', 'rbi',\n",
    "]\n",
    "\n",
    "\n",
    "stat_types = {'batting': batting_stats, 'pitching': pitching_stats}\n",
    "team_ids = [team['id'] for team in statsapi.lookup_team('')]"
   ]
  },
  {
   "cell_type": "code",
   "execution_count": 8,
   "metadata": {},
   "outputs": [],
   "source": [
    "def get_season_stats(season, stat_types, team_ids):\n",
    "    season_stats = {f\"{stat_type}_{stat}\": create_stat_dataframe(team_ids, season) \n",
    "                    for stat_type, stat_list in stat_types.items() for stat in stat_list}\n",
    "    for team_id in team_ids:\n",
    "        populate_stat_dataframes(season_stats, team_id, season, stat_types)\n",
    "    with open(f'stats/season_{season}_stats', 'wb') as file:\n",
    "        pickle.dump(season_stats, file)"
   ]
  },
  {
   "cell_type": "code",
   "execution_count": null,
   "metadata": {},
   "outputs": [],
   "source": [
    "get_season_stats(2019, stat_types, team_ids)"
   ]
  },
  {
   "cell_type": "code",
   "execution_count": null,
   "metadata": {},
   "outputs": [],
   "source": [
    "# get_season_stats(2020, stat_types, team_ids)"
   ]
  },
  {
   "cell_type": "code",
   "execution_count": null,
   "metadata": {},
   "outputs": [],
   "source": [
    "get_season_stats(2021, stat_types, team_ids)"
   ]
  },
  {
   "cell_type": "code",
   "execution_count": null,
   "metadata": {},
   "outputs": [],
   "source": [
    "get_season_stats(2022, stat_types, team_ids)"
   ]
  },
  {
   "cell_type": "code",
   "execution_count": null,
   "metadata": {},
   "outputs": [],
   "source": [
    "get_season_stats(2023, stat_types, team_ids)"
   ]
  },
  {
   "cell_type": "code",
   "execution_count": null,
   "metadata": {},
   "outputs": [],
   "source": [
    "get_season_stats(2024, stat_types, team_ids)"
   ]
  },
  {
   "cell_type": "markdown",
   "metadata": {},
   "source": [
    "## Merge stats with games"
   ]
  },
  {
   "cell_type": "code",
   "execution_count": 11,
   "metadata": {},
   "outputs": [],
   "source": [
    "with open('stats/season_2024_stats', 'rb') as file:\n",
    "    loaded_dict = pickle.load(file)"
   ]
  },
  {
   "cell_type": "code",
   "execution_count": null,
   "metadata": {},
   "outputs": [],
   "source": [
    "test = loaded_dict['batting_doubles']"
   ]
  },
  {
   "cell_type": "code",
   "execution_count": 38,
   "metadata": {},
   "outputs": [],
   "source": [
    "def get_home_stat(row, df2):\n",
    "    date = pd.to_datetime(row['date']) - pd.Timedelta(days=1)\n",
    "    id_ = row['home_id']\n",
    "    if id_ in df2.index and date in df2.columns:\n",
    "        return df2.loc[id_, date]\n",
    "    else:\n",
    "        return None\n",
    "\n",
    "def get_away_stat(row, df2):\n",
    "    date = pd.to_datetime(row['date']) - pd.Timedelta(days=1)\n",
    "    id_ = row['away_id']\n",
    "    if id_ in df2.index and date in df2.columns:\n",
    "        return df2.loc[id_, date]\n",
    "    else:\n",
    "        return None"
   ]
  },
  {
   "cell_type": "code",
   "execution_count": 39,
   "metadata": {},
   "outputs": [],
   "source": [
    "for stat_name, stat_df in loaded_dict.items():\n",
    "    games_df[f'home_{stat_name}'] = games_df.apply(lambda row: get_home_stat(row, stat_df), axis=1)\n",
    "\n",
    "for stat_name, stat_df in loaded_dict.items():\n",
    "    games_df[f'away_{stat_name}'] = games_df.apply(lambda row: get_away_stat(row, stat_df), axis=1)"
   ]
  }
 ],
 "metadata": {
  "kernelspec": {
   "display_name": "Python 3",
   "language": "python",
   "name": "python3"
  },
  "language_info": {
   "codemirror_mode": {
    "name": "ipython",
    "version": 3
   },
   "file_extension": ".py",
   "mimetype": "text/x-python",
   "name": "python",
   "nbconvert_exporter": "python",
   "pygments_lexer": "ipython3",
   "version": "3.11.0"
  }
 },
 "nbformat": 4,
 "nbformat_minor": 2
}
