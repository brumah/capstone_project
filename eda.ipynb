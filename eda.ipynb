{
 "cells": [
  {
   "cell_type": "code",
   "execution_count": 1,
   "metadata": {},
   "outputs": [],
   "source": [
    "import pandas as pd"
   ]
  },
  {
   "cell_type": "code",
   "execution_count": 2,
   "metadata": {},
   "outputs": [],
   "source": [
    "# features to predict are called 'run_differential' and 'home_win'\n",
    "# nomenclature of column names for team stats is '{home/away}_{batting/pitching}_{stat}'\n",
    "    # batting = offensive stats for that team\n",
    "    # pitching = defensive stats for that team\n",
    "\n",
    "# home and away team stats are separate features\n",
    "split_stats = pd.read_pickle('training_data/split_stats_training_data.pkl')\n",
    "\n",
    "# home and away team stats are combined into one feature (home - away)\n",
    "differential_stats = pd.read_pickle('training_data/differential_stats_training_data.pkl')\n",
    "\n",
    "# potentially add a third dataframe called ratio_stats which combines home and away team stats (home / away)\n",
    "\n",
    "# potentially come at team stats from a different angle such as relative strength or ranking \n",
    "# i.e. the team with the most doubles is ranked 1 in that stat while the team with the least doubles is ranked last\n",
    "# this would require me (Matt) to recollect data from api\n"
   ]
  },
  {
   "cell_type": "code",
   "execution_count": null,
   "metadata": {},
   "outputs": [],
   "source": [
    "# I just wanted to get this on Google Colab tonight. I'll comment in some tasks that need to be accomplished here tomorrow!"
   ]
  }
 ],
 "metadata": {
  "kernelspec": {
   "display_name": "Python 3",
   "language": "python",
   "name": "python3"
  },
  "language_info": {
   "codemirror_mode": {
    "name": "ipython",
    "version": 3
   },
   "file_extension": ".py",
   "mimetype": "text/x-python",
   "name": "python",
   "nbconvert_exporter": "python",
   "pygments_lexer": "ipython3",
   "version": "3.11.0"
  }
 },
 "nbformat": 4,
 "nbformat_minor": 2
}
