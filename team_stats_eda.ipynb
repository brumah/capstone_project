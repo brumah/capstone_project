{
 "cells": [
  {
   "cell_type": "code",
   "execution_count": 1,
   "metadata": {},
   "outputs": [],
   "source": [
    "# pip install MLB-StatsAPI\n",
    "# pip install pandas"
   ]
  },
  {
   "cell_type": "code",
   "execution_count": 2,
   "metadata": {},
   "outputs": [],
   "source": [
    "import statsapi\n",
    "import pandas as pd\n",
    "from datetime import datetime, timedelta"
   ]
  },
  {
   "cell_type": "markdown",
   "metadata": {},
   "source": [
    "## Collect run differential for all games over a specific date range"
   ]
  },
  {
   "cell_type": "code",
   "execution_count": 6,
   "metadata": {},
   "outputs": [],
   "source": [
    "# Function to calculate run differential for a game\n",
    "def get_run_differential(game):\n",
    "    home_runs = game['home_score']\n",
    "    away_runs = game['away_score']\n",
    "    run_differential = home_runs - away_runs\n",
    "    home_win = 1 if home_runs > away_runs else 0\n",
    "    return {\n",
    "        'game_id': game['game_id'],\n",
    "        'date': game['game_date'],\n",
    "        'home_team': game['home_name'],\n",
    "        'away_team': game['away_name'],\n",
    "        'home_score': home_runs,\n",
    "        'away_score': away_runs,\n",
    "        'run_differential': run_differential,\n",
    "        'home_win': home_win,\n",
    "    }\n"
   ]
  },
  {
   "cell_type": "code",
   "execution_count": 7,
   "metadata": {},
   "outputs": [],
   "source": [
    "# Function to fetch game data between a date range\n",
    "def fetch_run_differentials(start_date, end_date):\n",
    "    games_data = []\n",
    "    current_date = start_date\n",
    "    while current_date <= end_date:\n",
    "        schedule = statsapi.schedule(start_date=current_date.strftime('%Y-%m-%d'), end_date=(current_date + timedelta(days=6)).strftime('%Y-%m-%d'))\n",
    "        for game in schedule:\n",
    "            if game['status'] == 'Final':\n",
    "                game_info = get_run_differential(game)\n",
    "                games_data.append(game_info)\n",
    "        current_date += timedelta(days=7)\n",
    "    return games_data\n"
   ]
  },
  {
   "cell_type": "code",
   "execution_count": 8,
   "metadata": {},
   "outputs": [],
   "source": [
    "end_date = datetime.today()\n",
    "start_date = end_date - timedelta(days=30) # change days for a different date range\n",
    "games_data = fetch_run_differentials(start_date, end_date)\n",
    "games_df = pd.DataFrame(games_data)"
   ]
  }
 ],
 "metadata": {
  "kernelspec": {
   "display_name": "Python 3",
   "language": "python",
   "name": "python3"
  },
  "language_info": {
   "codemirror_mode": {
    "name": "ipython",
    "version": 3
   },
   "file_extension": ".py",
   "mimetype": "text/x-python",
   "name": "python",
   "nbconvert_exporter": "python",
   "pygments_lexer": "ipython3",
   "version": "3.11.0"
  }
 },
 "nbformat": 4,
 "nbformat_minor": 2
}
