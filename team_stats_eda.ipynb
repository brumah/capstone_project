{
 "cells": [
  {
   "cell_type": "code",
   "execution_count": null,
   "metadata": {},
   "outputs": [],
   "source": [
    "# pip install MLB-StatsAPI\n",
    "# pip install pandas"
   ]
  },
  {
   "cell_type": "code",
   "execution_count": 1,
   "metadata": {},
   "outputs": [],
   "source": [
    "import statsapi\n",
    "import pandas as pd\n",
    "from datetime import datetime, timedelta"
   ]
  },
  {
   "cell_type": "markdown",
   "metadata": {},
   "source": [
    "## Collect run differential for all games over a specific date range"
   ]
  },
  {
   "cell_type": "code",
   "execution_count": 16,
   "metadata": {},
   "outputs": [],
   "source": [
    "# Function to calculate run differential for a game\n",
    "def get_run_differential(game):\n",
    "    home_runs = game['home_score']\n",
    "    away_runs = game['away_score']\n",
    "    run_differential = home_runs - away_runs\n",
    "    home_win = 1 if home_runs > away_runs else 0\n",
    "    return {\n",
    "        'game_id': game['game_id'],\n",
    "        'date': game['game_date'],\n",
    "        'home_team_name': game['home_name'],\n",
    "        'away_team_name': game['away_name'],\n",
    "        'home_id': game['home_id'],\n",
    "        'away_id': game['away_id'],\n",
    "        'home_score': home_runs,\n",
    "        'away_score': away_runs,\n",
    "        'run_differential': run_differential,\n",
    "        'home_win': home_win,\n",
    "    }"
   ]
  },
  {
   "cell_type": "code",
   "execution_count": 17,
   "metadata": {},
   "outputs": [],
   "source": [
    "# Function to fetch game data between a date range\n",
    "def fetch_run_differentials(start_date, end_date):\n",
    "    games_data = []\n",
    "    current_date = start_date\n",
    "    while current_date <= end_date:\n",
    "        schedule = statsapi.schedule(start_date=current_date.strftime('%Y-%m-%d'), end_date=(current_date + timedelta(days=6)).strftime('%Y-%m-%d'))\n",
    "        for game in schedule:\n",
    "            if game['status'] == 'Final':\n",
    "                game_info = get_run_differential(game)\n",
    "                games_data.append(game_info)\n",
    "        current_date += timedelta(days=7)\n",
    "    return games_data\n"
   ]
  },
  {
   "cell_type": "code",
   "execution_count": 18,
   "metadata": {},
   "outputs": [],
   "source": [
    "end_date = datetime.today()\n",
    "start_date = end_date - timedelta(days=2) # change days for a different date range\n",
    "games_data = fetch_run_differentials(start_date, end_date)\n",
    "games_df = pd.DataFrame(games_data)"
   ]
  },
  {
   "cell_type": "markdown",
   "metadata": {},
   "source": [
    "## Incorporate Specific stats"
   ]
  },
  {
   "cell_type": "code",
   "execution_count": null,
   "metadata": {},
   "outputs": [],
   "source": [
    "batting_stats = [\n",
    "  'doubles',\n",
    "  'triples',\n",
    "  'homeRuns',\n",
    "  'strikeOuts',\n",
    "  'baseOnBalls',\n",
    "  'hits'\n",
    "  'avg',\n",
    "  'atBats',\n",
    "  'obp',\n",
    "  'slg',\n",
    "  'ops',\n",
    "  'stolenBases',\n",
    "  'rbi',\n",
    "  'leftOnBase',\n",
    "]\n",
    "\n",
    "pitching_stats = [\n",
    "  'runs',\n",
    "  'doubles',\n",
    "  'triples',\n",
    "  'homeRuns',\n",
    "  'strikeOuts',\n",
    "  'baseOnBalls',\n",
    "  'hits',\n",
    "  'atBats',\n",
    "  'obp',\n",
    "  'stolenBases',\n",
    "  'numberOfPitches',\n",
    "  'era',\n",
    "  'inningsPitched',\n",
    "  'earnedRuns',\n",
    "  'pitchesThrown',\n",
    "  'strikes',\n",
    "  'rbi',\n",
    "]"
   ]
  },
  {
   "cell_type": "code",
   "execution_count": 26,
   "metadata": {},
   "outputs": [
    {
     "name": "stdout",
     "output_type": "stream",
     "text": [
      "Team OBP on 2023-04-15 00:00:00: 0.34492500000000004\n"
     ]
    }
   ],
   "source": [
    "# NEED TO ADJUST TO WORK WITH ANY STAT\n",
    "# NEED TO FIGURE OUT EARLY SEASON METHOD\n",
    "# NEED TO FIGURE OUT ONLY PULLING DATES THAT ARE IN-SEASON DATES\n",
    "# NEED TO IGNORE PLAYOFF GAMES\n",
    "# NEED TO EXPORT DATAFRAMES IN PICKLE FILE TO USE BETWEEN SESSIONS\n",
    "\n",
    "# Step 1: Initialize DataFrame with team IDs and dates\n",
    "def create_stat_dataframe(team_ids, start_date, end_date):\n",
    "    date_range = pd.date_range(start=start_date, end=end_date)\n",
    "    df = pd.DataFrame(index=team_ids, columns=date_range)\n",
    "    df.index.name = 'team_id'\n",
    "    return df\n",
    "\n",
    "# Step 2: Populate OBP DataFrame using prefix sums\n",
    "def populate_obp_dataframe(df, team_ids, start_date, end_date):\n",
    "    for team_id in team_ids:\n",
    "        print(f\"Populating OBP for Team {team_id}\")\n",
    "        \n",
    "        # Initialize prefix sum variables\n",
    "        obp_total = 0.0\n",
    "        games_played = 0\n",
    "\n",
    "        # Fetch the team's schedule for the season\n",
    "        schedule = statsapi.schedule(team=team_id, start_date=start_date, end_date=end_date)\n",
    "\n",
    "        # Loop through each game in the team's schedule in chronological order\n",
    "        for game in schedule:\n",
    "            game_date = pd.to_datetime(game['game_date'])\n",
    "\n",
    "            # We only process games that have been completed (status 'Final')\n",
    "            if game['status'] == 'Final':\n",
    "                boxscore = statsapi.boxscore_data(game['game_id'])\n",
    "                \n",
    "                # Determine whether the team is the home or away team and get OBP\n",
    "                if team_id == game['home_id']:\n",
    "                    obp = boxscore['home']['teamStats']['batting']['obp']\n",
    "                else:\n",
    "                    obp = boxscore['away']['teamStats']['batting']['obp']\n",
    "\n",
    "                # Update the cumulative OBP total and increment the games played\n",
    "                obp_total += float(obp)\n",
    "                games_played += 1\n",
    "\n",
    "                # Calculate the running average OBP (prefix sum divided by games played)\n",
    "                current_obp = obp_total / games_played\n",
    "\n",
    "                # Fill the DataFrame for all dates up to the current game date\n",
    "                mask = (df.columns <= game_date) & (df.loc[team_id].isna())\n",
    "                df.loc[team_id, mask] = current_obp\n",
    "\n",
    "# Step 3: Retrieve OBP for a specific team and date\n",
    "def get_obp_for_game(df, team_id, game_date):\n",
    "    return df.loc[team_id, game_date]\n",
    "\n",
    "# Example usage\n",
    "team_ids = [108, 147]  # Example team IDs (Angels, Yankees)\n",
    "start_date = '2023-03-01'\n",
    "end_date = '2023-05-01'\n",
    "\n",
    "# Create and populate the DataFrame\n",
    "# obp_df = create_stat_dataframe(team_ids, start_date, end_date)\n",
    "# populate_obp_dataframe(obp_df, team_ids, start_date, end_date)\n",
    "\n",
    "# Example retrieval for a game on May 15, 2023\n",
    "game_date = pd.to_datetime('2023-04-15')\n",
    "team_obp = get_obp_for_game(obp_df, 108, game_date)\n",
    "print(f\"Team OBP on {game_date}: {team_obp}\")\n",
    "\n",
    "\n"
   ]
  }
 ],
 "metadata": {
  "kernelspec": {
   "display_name": "Python 3",
   "language": "python",
   "name": "python3"
  },
  "language_info": {
   "codemirror_mode": {
    "name": "ipython",
    "version": 3
   },
   "file_extension": ".py",
   "mimetype": "text/x-python",
   "name": "python",
   "nbconvert_exporter": "python",
   "pygments_lexer": "ipython3",
   "version": "3.11.0"
  }
 },
 "nbformat": 4,
 "nbformat_minor": 2
}
